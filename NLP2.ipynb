{
 "cells": [
  {
   "cell_type": "code",
   "execution_count": 6,
   "id": "3f704528-5377-4f41-b95b-223f67009be5",
   "metadata": {
    "scrolled": true
   },
   "outputs": [
    {
     "name": "stdout",
     "output_type": "stream",
     "text": [
      "Requirement already satisfied: pandas in c:\\users\\dathasai\\appdata\\local\\programs\\python\\python312\\lib\\site-packages (2.1.4)Note: you may need to restart the kernel to use updated packages.\n",
      "\n",
      "Requirement already satisfied: numpy<2,>=1.26.0 in c:\\users\\dathasai\\appdata\\local\\programs\\python\\python312\\lib\\site-packages (from pandas) (1.26.3)\n",
      "Requirement already satisfied: python-dateutil>=2.8.2 in c:\\users\\dathasai\\appdata\\local\\programs\\python\\python312\\lib\\site-packages (from pandas) (2.8.2)\n",
      "Requirement already satisfied: pytz>=2020.1 in c:\\users\\dathasai\\appdata\\local\\programs\\python\\python312\\lib\\site-packages (from pandas) (2023.3.post1)\n",
      "Requirement already satisfied: tzdata>=2022.1 in c:\\users\\dathasai\\appdata\\local\\programs\\python\\python312\\lib\\site-packages (from pandas) (2023.4)\n",
      "Requirement already satisfied: six>=1.5 in c:\\users\\dathasai\\appdata\\local\\programs\\python\\python312\\lib\\site-packages (from python-dateutil>=2.8.2->pandas) (1.16.0)\n"
     ]
    }
   ],
   "source": [
    "pip install pandas "
   ]
  },
  {
   "cell_type": "code",
   "execution_count": 7,
   "id": "640d90a1-8e87-45f5-a83b-c78e3904e9dc",
   "metadata": {},
   "outputs": [
    {
     "name": "stdout",
     "output_type": "stream",
     "text": [
      "Requirement already satisfied: nltk in c:\\users\\dathasai\\appdata\\local\\programs\\python\\python312\\lib\\site-packages (3.8.1)Note: you may need to restart the kernel to use updated packages.\n",
      "\n",
      "Requirement already satisfied: scikit-learn in c:\\users\\dathasai\\appdata\\local\\programs\\python\\python312\\lib\\site-packages (1.3.2)\n",
      "Requirement already satisfied: wordcloud in c:\\users\\dathasai\\appdata\\local\\programs\\python\\python312\\lib\\site-packages (1.9.3)\n",
      "Requirement already satisfied: click in c:\\users\\dathasai\\appdata\\local\\programs\\python\\python312\\lib\\site-packages (from nltk) (8.1.7)\n",
      "Requirement already satisfied: joblib in c:\\users\\dathasai\\appdata\\local\\programs\\python\\python312\\lib\\site-packages (from nltk) (1.3.2)\n",
      "Requirement already satisfied: regex>=2021.8.3 in c:\\users\\dathasai\\appdata\\local\\programs\\python\\python312\\lib\\site-packages (from nltk) (2024.5.15)\n",
      "Requirement already satisfied: tqdm in c:\\users\\dathasai\\appdata\\local\\programs\\python\\python312\\lib\\site-packages (from nltk) (4.66.4)\n",
      "Requirement already satisfied: numpy<2.0,>=1.17.3 in c:\\users\\dathasai\\appdata\\local\\programs\\python\\python312\\lib\\site-packages (from scikit-learn) (1.26.3)\n",
      "Requirement already satisfied: scipy>=1.5.0 in c:\\users\\dathasai\\appdata\\local\\programs\\python\\python312\\lib\\site-packages (from scikit-learn) (1.11.4)\n",
      "Requirement already satisfied: threadpoolctl>=2.0.0 in c:\\users\\dathasai\\appdata\\local\\programs\\python\\python312\\lib\\site-packages (from scikit-learn) (3.2.0)\n",
      "Requirement already satisfied: pillow in c:\\users\\dathasai\\appdata\\local\\programs\\python\\python312\\lib\\site-packages (from wordcloud) (10.4.0)\n",
      "Requirement already satisfied: matplotlib in c:\\users\\dathasai\\appdata\\local\\programs\\python\\python312\\lib\\site-packages (from wordcloud) (3.9.2)\n",
      "Requirement already satisfied: colorama in c:\\users\\dathasai\\appdata\\local\\programs\\python\\python312\\lib\\site-packages (from click->nltk) (0.4.6)\n",
      "Requirement already satisfied: contourpy>=1.0.1 in c:\\users\\dathasai\\appdata\\local\\programs\\python\\python312\\lib\\site-packages (from matplotlib->wordcloud) (1.3.0)\n",
      "Requirement already satisfied: cycler>=0.10 in c:\\users\\dathasai\\appdata\\local\\programs\\python\\python312\\lib\\site-packages (from matplotlib->wordcloud) (0.12.1)\n",
      "Requirement already satisfied: fonttools>=4.22.0 in c:\\users\\dathasai\\appdata\\local\\programs\\python\\python312\\lib\\site-packages (from matplotlib->wordcloud) (4.53.1)\n",
      "Requirement already satisfied: kiwisolver>=1.3.1 in c:\\users\\dathasai\\appdata\\local\\programs\\python\\python312\\lib\\site-packages (from matplotlib->wordcloud) (1.4.7)\n",
      "Requirement already satisfied: packaging>=20.0 in c:\\users\\dathasai\\appdata\\local\\programs\\python\\python312\\lib\\site-packages (from matplotlib->wordcloud) (24.0)\n",
      "Requirement already satisfied: pyparsing>=2.3.1 in c:\\users\\dathasai\\appdata\\local\\programs\\python\\python312\\lib\\site-packages (from matplotlib->wordcloud) (3.1.4)\n",
      "Requirement already satisfied: python-dateutil>=2.7 in c:\\users\\dathasai\\appdata\\local\\programs\\python\\python312\\lib\\site-packages (from matplotlib->wordcloud) (2.8.2)\n",
      "Requirement already satisfied: six>=1.5 in c:\\users\\dathasai\\appdata\\local\\programs\\python\\python312\\lib\\site-packages (from python-dateutil>=2.7->matplotlib->wordcloud) (1.16.0)\n"
     ]
    }
   ],
   "source": [
    "pip install nltk scikit-learn wordcloud"
   ]
  },
  {
   "cell_type": "code",
   "execution_count": 8,
   "id": "eeee913e-5965-4842-ae36-4e641b4d97e3",
   "metadata": {},
   "outputs": [],
   "source": [
    "import pandas as pd\n",
    "import nltk\n",
    "from nltk.corpus import stopwords\n",
    "from nltk.tokenize import word_tokenize\n",
    "from nltk.stem import PorterStemmer, WordNetLemmatizer\n",
    "from sklearn.feature_extraction.text import CountVectorizer, TfidfVectorizer\n",
    "from wordcloud import WordCloud\n",
    "import matplotlib.pyplot as plt"
   ]
  },
  {
   "cell_type": "code",
   "execution_count": 9,
   "id": "b33c5308-4dcb-460f-8630-d529f64551d6",
   "metadata": {},
   "outputs": [
    {
     "name": "stderr",
     "output_type": "stream",
     "text": [
      "[nltk_data] Downloading package punkt to\n",
      "[nltk_data]     C:\\Users\\Dathasai\\AppData\\Roaming\\nltk_data...\n",
      "[nltk_data]   Package punkt is already up-to-date!\n",
      "[nltk_data] Downloading package stopwords to\n",
      "[nltk_data]     C:\\Users\\Dathasai\\AppData\\Roaming\\nltk_data...\n",
      "[nltk_data]   Package stopwords is already up-to-date!\n",
      "[nltk_data] Downloading package wordnet to\n",
      "[nltk_data]     C:\\Users\\Dathasai\\AppData\\Roaming\\nltk_data...\n",
      "[nltk_data]   Package wordnet is already up-to-date!\n"
     ]
    },
    {
     "data": {
      "text/plain": [
       "True"
      ]
     },
     "execution_count": 9,
     "metadata": {},
     "output_type": "execute_result"
    }
   ],
   "source": [
    "# Download nltk data\n",
    "nltk.download('punkt')\n",
    "nltk.download('stopwords')\n",
    "nltk.download('wordnet')"
   ]
  },
  {
   "cell_type": "code",
   "execution_count": 10,
   "id": "da518184-b2ca-4023-8a35-c45a10eb51b5",
   "metadata": {},
   "outputs": [],
   "source": [
    "# Load dataset\n",
    "df = pd.read_csv('df_m.csv')"
   ]
  },
  {
   "cell_type": "code",
   "execution_count": 11,
   "id": "d040b598-1fbe-409d-a7e2-d92bd77c1fab",
   "metadata": {},
   "outputs": [],
   "source": [
    "# Assuming there's a 'text' column in the dataset\n",
    "df['text'] = df['text'].astype(str)"
   ]
  },
  {
   "cell_type": "code",
   "execution_count": 12,
   "id": "53505c7c-a42a-4686-8bc8-f22e21673015",
   "metadata": {},
   "outputs": [],
   "source": [
    "# Tokenization\n",
    "df['tokenized'] = df['text'].apply(lambda x: word_tokenize(x.lower()))"
   ]
  },
  {
   "cell_type": "code",
   "execution_count": 13,
   "id": "0fed5c02-7050-4b8e-84f0-e6bc34bb70ea",
   "metadata": {},
   "outputs": [],
   "source": [
    "# Stop Words Removal\n",
    "stop_words = set(stopwords.words('english'))\n",
    "df['stopwords_removed'] = df['tokenized'].apply(lambda x: [word for word in x if word not in stop_words])"
   ]
  },
  {
   "cell_type": "code",
   "execution_count": 14,
   "id": "e350eab6-7fc3-40c5-b29f-a93729be6a7d",
   "metadata": {},
   "outputs": [],
   "source": [
    "# Stemming\n",
    "ps = PorterStemmer()\n",
    "df['stemmed'] = df['stopwords_removed'].apply(lambda x: [ps.stem(word) for word in x])"
   ]
  },
  {
   "cell_type": "code",
   "execution_count": 15,
   "id": "83f47841-b0b2-4b56-8f25-c3de76fc79c5",
   "metadata": {},
   "outputs": [],
   "source": [
    "lemmatizer = WordNetLemmatizer()\n",
    "df['lemmatized'] = df['stopwords_removed'].apply(lambda x: [lemmatizer.lemmatize(word) for word in x])\n"
   ]
  },
  {
   "cell_type": "code",
   "execution_count": 16,
   "id": "c6d58738-57fc-4698-9573-df82d1b1efc4",
   "metadata": {},
   "outputs": [
    {
     "name": "stdout",
     "output_type": "stream",
     "text": [
      "                                               tokenized  \\\n",
      "0      [@, cloudflare, reports, #, ransom, #, ddos, a...   \n",
      "1      [here, ’, s, the, one, thing, you, mustn, ’, t...   \n",
      "2      [@, tactikoolsec, there, was, the, time, where...   \n",
      "3      [ransomware, is, a, fast-growing, threat, impa...   \n",
      "4      [five, key, cloud, and, innovation, takeaways,...   \n",
      "...                                                  ...   \n",
      "36075  [the, uk, ’, s, national, cyber, security, cen...   \n",
      "36076  [free, crypto, coins, tips, :, lg, and, mitsub...   \n",
      "36077  [conti, ransomware, deployed, in, icedid, bank...   \n",
      "36078  [rt, @, middleeastmnt, :, poland, admits, usin...   \n",
      "36079  [#, conti, claims, to, have, hacked, barwick, ...   \n",
      "\n",
      "                                       stopwords_removed  \\\n",
      "0      [@, cloudflare, reports, #, ransom, #, ddos, a...   \n",
      "1      [’, one, thing, ’, tell, hackers, business, su...   \n",
      "2      [@, tactikoolsec, time, not-so-great-at-their-...   \n",
      "3      [ransomware, fast-growing, threat, impacting, ...   \n",
      "4      [five, key, cloud, innovation, takeaways, ing,...   \n",
      "...                                                  ...   \n",
      "36075  [uk, ’, national, cyber, security, centre, war...   \n",
      "36076  [free, crypto, coins, tips, :, lg, mitsubishi,...   \n",
      "36077  [conti, ransomware, deployed, icedid, banking,...   \n",
      "36078  [rt, @, middleeastmnt, :, poland, admits, usin...   \n",
      "36079  [#, conti, claims, hacked, barwick, bathroom, ...   \n",
      "\n",
      "                                                 stemmed  \\\n",
      "0      [@, cloudflar, report, #, ransom, #, ddo, atta...   \n",
      "1      [’, one, thing, ’, tell, hacker, busi, success...   \n",
      "2      [@, tactikoolsec, time, not-so-great-at-their-...   \n",
      "3      [ransomwar, fast-grow, threat, impact, organ, ...   \n",
      "4      [five, key, cloud, innov, takeaway, ing, &, am...   \n",
      "...                                                  ...   \n",
      "36075  [uk, ’, nation, cyber, secur, centr, warn, tim...   \n",
      "36076  [free, crypto, coin, tip, :, lg, mitsubishi, h...   \n",
      "36077  [conti, ransomwar, deploy, icedid, bank, troja...   \n",
      "36078  [rt, @, middleeastmnt, :, poland, admit, use, ...   \n",
      "36079  [#, conti, claim, hack, barwick, bathroom, dis...   \n",
      "\n",
      "                                              lemmatized  \n",
      "0      [@, cloudflare, report, #, ransom, #, ddos, at...  \n",
      "1      [’, one, thing, ’, tell, hacker, business, suc...  \n",
      "2      [@, tactikoolsec, time, not-so-great-at-their-...  \n",
      "3      [ransomware, fast-growing, threat, impacting, ...  \n",
      "4      [five, key, cloud, innovation, takeaway, ing, ...  \n",
      "...                                                  ...  \n",
      "36075  [uk, ’, national, cyber, security, centre, war...  \n",
      "36076  [free, crypto, coin, tip, :, lg, mitsubishi, h...  \n",
      "36077  [conti, ransomware, deployed, icedid, banking,...  \n",
      "36078  [rt, @, middleeastmnt, :, poland, admits, usin...  \n",
      "36079  [#, conti, claim, hacked, barwick, bathroom, d...  \n",
      "\n",
      "[36080 rows x 4 columns]\n"
     ]
    }
   ],
   "source": [
    "# Display intermediate output in tabular form till lemmatization\n",
    "print(df[['tokenized', 'stopwords_removed', 'stemmed', 'lemmatized']])"
   ]
  },
  {
   "cell_type": "code",
   "execution_count": 17,
   "id": "748038e4-94e6-4f4b-9341-7ce0bab7598c",
   "metadata": {},
   "outputs": [
    {
     "name": "stdout",
     "output_type": "stream",
     "text": [
      "\n",
      "Reduced Bag of Words (BoW):\n",
      "        !   #  $  %  &  '  ''  'advanced  'contact  'd  ...  🤮  🤯  🤷‍♂️  🥴  🦈  \\\n",
      "0      0  10  0  3  0  0   0          0         0   0  ...  0  0     0  0  0   \n",
      "1      0   0  0  0  0  0   0          0         0   0  ...  0  0     0  0  0   \n",
      "2      0   0  0  0  0  0   0          0         0   0  ...  0  0     0  0  0   \n",
      "3      0   2  0  0  0  0   0          0         0   0  ...  0  0     0  0  0   \n",
      "4      0  15  0  0  1  0   0          0         0   0  ...  0  0     0  0  0   \n",
      "...   ..  .. .. .. .. ..  ..        ...       ...  ..  ... .. ..   ... .. ..   \n",
      "36075  0   0  0  0  0  0   0          0         0   0  ...  0  0     0  0  0   \n",
      "36076  0   6  0  0  0  0   0          0         0   0  ...  0  0     0  0  0   \n",
      "36077  0   0  0  0  0  0   0          0         0   0  ...  0  0     0  0  0   \n",
      "36078  0   0  0  0  0  0   0          0         0   0  ...  0  0     0  0  0   \n",
      "36079  0   4  0  0  0  0   0          0         0   0  ...  0  0     0  0  0   \n",
      "\n",
      "       🦠  🧐  🧭  🧵  🪱  \n",
      "0      0  0  0  0  0  \n",
      "1      0  0  0  0  0  \n",
      "2      0  0  0  0  0  \n",
      "3      0  0  0  0  0  \n",
      "4      0  0  0  0  0  \n",
      "...   .. .. .. .. ..  \n",
      "36075  0  0  0  0  0  \n",
      "36076  0  0  0  0  0  \n",
      "36077  0  0  0  0  0  \n",
      "36078  0  0  0  0  0  \n",
      "36079  0  0  0  0  0  \n",
      "\n",
      "[36080 rows x 10000 columns]\n"
     ]
    }
   ],
   "source": [
    "vectorizer_bow = CountVectorizer(analyzer=lambda x: x, max_features=10000)  # Adjust the number as needed\n",
    "X_bow = vectorizer_bow.fit_transform(df['lemmatized'])\n",
    "df_bow = pd.DataFrame.sparse.from_spmatrix(X_bow, columns=vectorizer_bow.get_feature_names_out())\n",
    "print(\"\\nReduced Bag of Words (BoW):\\n\", df_bow)"
   ]
  },
  {
   "cell_type": "code",
   "execution_count": 18,
   "id": "49a93e39-be8d-42c1-8984-dd126549ed9f",
   "metadata": {},
   "outputs": [
    {
     "ename": "NameError",
     "evalue": "name 'X_tfidf' is not defined",
     "output_type": "error",
     "traceback": [
      "\u001b[1;31m---------------------------------------------------------------------------\u001b[0m",
      "\u001b[1;31mNameError\u001b[0m                                 Traceback (most recent call last)",
      "Cell \u001b[1;32mIn[18], line 2\u001b[0m\n\u001b[0;32m      1\u001b[0m \u001b[38;5;66;03m# Keep the TF-IDF as a sparse matrix to save memory\u001b[39;00m\n\u001b[1;32m----> 2\u001b[0m df_tfidf_sparse \u001b[38;5;241m=\u001b[39m pd\u001b[38;5;241m.\u001b[39mDataFrame\u001b[38;5;241m.\u001b[39msparse\u001b[38;5;241m.\u001b[39mfrom_spmatrix(\u001b[43mX_tfidf\u001b[49m, columns\u001b[38;5;241m=\u001b[39mvectorizer_tfidf\u001b[38;5;241m.\u001b[39mget_feature_names_out())\n\u001b[0;32m      3\u001b[0m \u001b[38;5;28mprint\u001b[39m(\u001b[38;5;124m\"\u001b[39m\u001b[38;5;130;01m\\n\u001b[39;00m\u001b[38;5;124mSparse TF-IDF:\u001b[39m\u001b[38;5;130;01m\\n\u001b[39;00m\u001b[38;5;124m\"\u001b[39m, df_tfidf_sparse)\n",
      "\u001b[1;31mNameError\u001b[0m: name 'X_tfidf' is not defined"
     ]
    }
   ],
   "source": [
    "# Keep the TF-IDF as a sparse matrix to save memory\n",
    "df_tfidf_sparse = pd.DataFrame.sparse.from_spmatrix(X_tfidf, columns=vectorizer_tfidf.get_feature_names_out())\n",
    "print(\"\\nSparse TF-IDF:\\n\", df_tfidf_sparse)\n"
   ]
  },
  {
   "cell_type": "code",
   "execution_count": null,
   "id": "96448082-98db-4b1c-a4fc-09b250fdacce",
   "metadata": {},
   "outputs": [],
   "source": [
    "# Word Cloud for Bag of Words\n",
    "wordcloud_bow = WordCloud(background_color='white').generate(' '.join(vectorizer_bow.get_feature_names_out()))\n",
    "plt.figure(figsize=(8, 6))\n",
    "plt.imshow(wordcloud_bow, interpolation='bilinear')\n",
    "plt.axis('off')\n",
    "plt.title('Word Cloud - Bag of Words')\n",
    "plt.show()"
   ]
  },
  {
   "cell_type": "code",
   "execution_count": null,
   "id": "2b296fad-845b-4d17-8635-d27430b85e9b",
   "metadata": {},
   "outputs": [],
   "source": [
    "# Word Cloud for TF-IDF\n",
    "wordcloud_tfidf = WordCloud(background_color='white').generate(' '.join(vectorizer_tfidf.get_feature_names_out()))\n",
    "plt.figure(figsize=(8, 6))\n",
    "plt.imshow(wordcloud_tfidf, interpolation='bilinear')\n",
    "plt.axis('off')\n",
    "plt.title('Word Cloud - TF-IDF')\n",
    "plt.show()"
   ]
  },
  {
   "cell_type": "code",
   "execution_count": 20,
   "id": "bea79d51-b959-436f-a1bd-a7cf572d1970",
   "metadata": {},
   "outputs": [
    {
     "name": "stdout",
     "output_type": "stream",
     "text": [
      "Original Tweet\n",
      "==========================================\n",
      "\"FluBot has been stopped by a successful Police operation coordinated by @EC3Europol. It had been spreading aggressively through SMS and has been one of the fastest spreading mobile malware seen to date.\n",
      "\n",
      "Cleaned Tweet\n",
      "==========================================\n",
      "`` flubot stopped successful police operation coordinated @ ec3europol . spreading aggressively sm one fastest spreading mobile malware seen date .\n"
     ]
    }
   ],
   "source": [
    "import random\n",
    "def preprocess_tweet(tweet):\n",
    "    tokenized = word_tokenize(tweet.lower())\n",
    "    stopwords_removed = [word for word in tokenized if word not in stop_words]\n",
    "    stemmed = [ps.stem(word) for word in stopwords_removed]\n",
    "    lemmatized = [lemmatizer.lemmatize(word) for word in stopwords_removed]\n",
    "    cleaned_tweet = ' '.join(lemmatized)\n",
    "    \n",
    "    return cleaned_tweet\n",
    "def display_random_tweet(df):\n",
    "    random_index = random.randint(0, len(df) - 1)\n",
    "    original_tweet = df['text'][random_index]\n",
    "    cleaned_tweet = preprocess_tweet(original_tweet)\n",
    "    print(\"Original Tweet\")\n",
    "    print(\"==========================================\")\n",
    "    print(original_tweet)\n",
    "    print(\"\\nCleaned Tweet\")\n",
    "    print(\"==========================================\")\n",
    "    print(cleaned_tweet)\n",
    "    \n",
    "display_random_tweet(df)\n"
   ]
  },
  {
   "cell_type": "code",
   "execution_count": null,
   "id": "b6d68835-ccb7-4d40-badb-521e49ffdcc1",
   "metadata": {},
   "outputs": [],
   "source": []
  }
 ],
 "metadata": {
  "kernelspec": {
   "display_name": "Python 3 (ipykernel)",
   "language": "python",
   "name": "python3"
  },
  "language_info": {
   "codemirror_mode": {
    "name": "ipython",
    "version": 3
   },
   "file_extension": ".py",
   "mimetype": "text/x-python",
   "name": "python",
   "nbconvert_exporter": "python",
   "pygments_lexer": "ipython3",
   "version": "3.12.3"
  }
 },
 "nbformat": 4,
 "nbformat_minor": 5
}
